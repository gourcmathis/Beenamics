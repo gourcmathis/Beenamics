{
  "nbformat": 4,
  "nbformat_minor": 0,
  "metadata": {
    "colab": {
      "name": "Beenamics.ipynb",
      "provenance": [],
      "collapsed_sections": []
    },
    "kernelspec": {
      "name": "python3",
      "display_name": "Python 3"
    }
  },
  "cells": [
    {
      "cell_type": "code",
      "metadata": {
        "id": "extsDdJFGiFo"
      },
      "source": [
        "import numpy as np\n",
        "import matplotlib.pyplot as plt\n",
        "from random import randint\n"
      ],
      "execution_count": 4,
      "outputs": []
    },
    {
      "cell_type": "code",
      "metadata": {
        "id": "9SeLtIikWf-X"
      },
      "source": [
        "### PARAMETRES FONCTION PREDICTION DU TAUX DE PONTE (!!! à modifier!!!)\n",
        "\n",
        "# Comportements de la reine/ponte\n",
        "x1=385\n",
        "x2=30\n",
        "x3=36\n",
        "x4=155 #jour de l'année où la reine pond le plus\n",
        "x5=30\n",
        "ELRbase=1600 # taux de ponte moyen de la reine (dépend de la reine, son âge etc ..)\n",
        "SUPtreshold=0.2 # si le taux de cellules vides est inférieur à cette limite alors il y a une diminution du taux de ponte (la reine a de plus en plus de mal à trouver des cellules disponibles)\n",
        "ELRstochrange=1000 # facteur stochastique du taux de ponte de la reine\n",
        "\n",
        "#Cellules\n",
        "CELLShive=250000 # nb de cellules dans la ruche\n",
        "\n",
        "\n",
        "# Couvain\n",
        "LIFESPANegg =3 #durée max (en jours) de l'état oeuf\n",
        "LIFESPANlarvae =5 #durée max (en jours) de l'état larve\n",
        "LIFESPANpupae =12 #durée max (en jours) de l'état pupe \n",
        "\n",
        "# Taux de mortalité\n",
        "# Plus le stade est avancé et moins le taux de mortalité est élevé\n",
        "MORTALITYeggs=0.03\n",
        "MORTALITYlarvae=0.01\n",
        "MORTALITYpupae=0.001\n",
        "\n",
        "# Taux fixe de cannibalisme des larves en fonction de leur age (1-5 jours)\n",
        "CANNIBALISMhungerbase=[0.23,0.3,0.58,0.06,0]\n"
      ],
      "execution_count": 5,
      "outputs": []
    },
    {
      "cell_type": "code",
      "metadata": {
        "id": "1V0PmyK0rxaX"
      },
      "source": [
        "### FONCTION FACTEUR SAISON \n",
        "def f(t):\n",
        "  return(1-1/(1+x1*np.exp(-2*t/x2)))\n",
        "\n",
        "def g(t):\n",
        "  return(1/(1+x3*np.exp(-2*(t-x4)/x5))) \n",
        "\n",
        "#Facteur saison (t en jours)\n",
        "def season(t):\n",
        "    return max(g(t),f(t))\n",
        "\n"
      ],
      "execution_count": 6,
      "outputs": []
    },
    {
      "cell_type": "code",
      "metadata": {
        "colab": {
          "base_uri": "https://localhost:8080/",
          "height": 295
        },
        "id": "Uu-0dLQzKFTs",
        "outputId": "8f1c58b4-5ecc-43f1-dbc2-721303dc5fd0"
      },
      "source": [
        "### PLOT SEASON\n",
        "X=[i for i in range(0,350)] \n",
        "Y=[season(i) for i in X]\n",
        "\n",
        "plt.title('Facteur saison en fonction du temps')\n",
        "plt.ylabel('season(t)')\n",
        "plt.xlabel('t (en jours)')\n",
        "\n",
        "plt.plot(X,Y)\n",
        "plt.show()"
      ],
      "execution_count": 7,
      "outputs": [
        {
          "output_type": "display_data",
          "data": {
            "image/png": "[encoded data removed]",
            "text/plain": [
              "<Figure size 432x288 with 1 Axes>"
            ]
          },
          "metadata": {
            "tags": [],
            "needs_background": "light"
          }
        }
      ]
    },
    {
      "cell_type": "code",
      "metadata": {
        "id": "AZcqAmFdEJjE"
      },
      "source": [
        ""
      ],
      "execution_count": null,
      "outputs": []
    },
    {
      "cell_type": "code",
      "metadata": {
        "id": "ZijEi2ayopcG"
      },
      "source": [
        ""
      ],
      "execution_count": null,
      "outputs": []
    },
    {
      "cell_type": "code",
      "metadata": {
        "id": "wQXxdGtgnwnz"
      },
      "source": [
        "#Nombre de cellules disponibles (vides)\n",
        "def CELLSempty(t) :\n",
        "  return CELLShive - CELLSbrood(t)-STORESpollen(t)-STORESnextar(t)-STOREhoney(t)\n",
        "\n",
        "\n",
        "# Fonction décrivant la diminution du taux de ponte lorsque le nombre de cellules disponibles devient limité \n",
        "def SUPcomb(t):\n",
        "  res = CELLSempty(t)/(CELLShive+1)\n",
        "  if (res <SUPtreshold):\n",
        "    return res / SUPtreshold\n",
        "  else :\n",
        "    return 1  \n",
        "\n",
        "#Facteur stochastique (aléatoire) du taux de ponte\n",
        "def ELRstoch():\n",
        "  return randint(-ELRstochrange,ELRstochrange)\n",
        "\n"
      ],
      "execution_count": null,
      "outputs": []
    },
    {
      "cell_type": "code",
      "metadata": {
        "id": "_gEKnKHSpt-J"
      },
      "source": [
        "### FONCTION PREDICTION DU TAUX DE PONTE \n",
        "def ELR(t):\n",
        "    return ELRbase * (1+ELRstoch())*(1-season(t))*SUPcomb(t)"
      ],
      "execution_count": null,
      "outputs": []
    },
    {
      "cell_type": "markdown",
      "metadata": {
        "id": "midn7-enIBD-"
      },
      "source": [
        "\n",
        "\n",
        "---\n",
        "\n"
      ]
    },
    {
      "cell_type": "code",
      "metadata": {
        "id": "CgVXHEiunK1v"
      },
      "source": [
        "### FONCTIONS NOMBRE D'OEUFS\n",
        "\n",
        "def EGGS(i,t):\n",
        "    # i désigne l'âge de l'individu immature, t le jour\n",
        "    if i==1 :\n",
        "      return ELR(t-1) * (1-MORTALITYeggs)\n",
        "    elif i==2 or i==3 :\n",
        "      return EGGS(i-1,t-1)*(1-MORTALITYeggs)\n",
        "    else :\n",
        "      # Exception, la fonction EGGS n'est pas définie pour i qui n'appartient pas à [|1;3|]\n",
        "      print('Erreur, l age i n est pas possible pour la fonction EGGS daprès le modele')\n",
        "      return (-1)\n",
        " \n",
        "def CELLSeggs(t):\n",
        "  #nombre total d'oeuf dans la ruche à un instant t \n",
        "  return sum([EGGS(i,t) for i in range(1,LIFESPANegg+1)])\n"
      ],
      "execution_count": 1,
      "outputs": []
    },
    {
      "cell_type": "code",
      "metadata": {
        "id": "eFk3EFe7ezK0"
      },
      "source": [
        "### FONCTIONS NOMBRE DE LARVES\n",
        "\n",
        "# Taux de cannibalisme des larves\n",
        "def CANNIBALISMlarvae(i,t) :\n",
        "  return(CANNIBALISMbase[i] *(1-(INDEXpollensituation(t-1)*INDEXnursingquality(t-1))))\n",
        "\n",
        "# Taux de larves survivantes\n",
        "def SURVIVALlarvae(i,t):\n",
        "  return((1-CANNIBALISMlarvae(i,t))*(1-MORTALITYlarvae))\n",
        "\n",
        "# Nombre de larves au stade i à un instant t\n",
        "def LARVAE(i,t):\n",
        "  # i désigne l'âge de l'individu immature, t le jour\n",
        "  if i==1 :\n",
        "    return EGGS(LIFESPANegg,t-1)*SURVIVALlarvae(1,t)\n",
        "  elif i>1 and i<=LIFESPANlarvae :\n",
        "    return LARVAE(i-1,t-1)*SURVIVALlarvae(i,t)\n",
        "  else :\n",
        "    # Exception, la fonction LARVAE n'est pas définie pour i qui n'appartient pas à [|1;LIFESPANlarvae|]\n",
        "    print('Erreur, l age i n est pas possible pour la fonction LARVAE daprès le modele')\n",
        "    return (-1)\n",
        "\n",
        "def CELLSlarvae(t):\n",
        "  #nombre total de larves dans la ruche à un instant t  \n",
        "  return sum([LARVAE(i,t) for i in range(1,LIFESPANlarvae+1)])\n"
      ],
      "execution_count": null,
      "outputs": []
    },
    {
      "cell_type": "code",
      "metadata": {
        "id": "b8pdsGN3QvDq"
      },
      "source": [
        "### FONCTIONS NOMBRE DE PUPES\n",
        "\n",
        "# Nombre de pupes au stade i à un instant t\n",
        "def PUPAE(i,t):\n",
        "  # i désigne l'âge de l'individu immature, t le jour\n",
        "  if i==1 :\n",
        "    return LARVAE(LIFESPANlarvae,t-1)*(1-MORTALITYpupae)\n",
        "  elif i>1 and i<=LIFESPANpupae :\n",
        "    return PUPAE(i-1,t-1)*(1-MORTALITYpupae)\n",
        "  else :\n",
        "    # Exception, la fonction PUPAE n'est pas définie pour i qui n'appartient pas à [|1;LIFESPANpupae|]\n",
        "    print('Erreur, l age i n est pas possible pour la fonction PUPAE daprès le modele')\n",
        "    return (-1)\n",
        "\n",
        "def CELLSpupae(t):\n",
        "  #nombre total de pupes dans la ruche à un instant t  \n",
        "  return sum([PUPAE(i,t) for i in range(1,LIFESPANpupae+1)])\n",
        "\n"
      ],
      "execution_count": null,
      "outputs": []
    },
    {
      "cell_type": "code",
      "metadata": {
        "id": "lkXnBYhfWBQg"
      },
      "source": [
        "def CELLSbrood(t):\n",
        "  #nombre d'individus en phase de développement dans la ruche (oeufs+larves+pupes)\n",
        "  return CELLSeggs(t) + CELLSlarvae(t) + CELLSpupae(t)"
      ],
      "execution_count": null,
      "outputs": []
    }
  ]
}