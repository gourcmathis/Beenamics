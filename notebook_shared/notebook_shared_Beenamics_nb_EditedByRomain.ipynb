{
  "nbformat": 4,
  "nbformat_minor": 0,
  "metadata": {
    "colab": {
      "name": "notebook_shared_Beenamics_nb.ipynb",
      "provenance": [],
      "collapsed_sections": [
        "Be1W2vj37XRY",
        "_87lFWAQBhga",
        "Zmzg5lrXCvt_",
        "xoWB_GRcHcIK",
        "L3lVb-NZJeSt"
      ]
    },
    "kernelspec": {
      "name": "python3",
      "display_name": "Python 3"
    }
  },
  "cells": [
    {
      "cell_type": "markdown",
      "metadata": {
        "id": "ezD-4RaqZ-IM"
      },
      "source": [
        "# **HOPOMO IMPLEMENTATION**\n",
        "\n",
        "\n"
      ]
    },
    {
      "cell_type": "markdown",
      "metadata": {
        "id": "Vwc2fMKF6Znn"
      },
      "source": [
        "### **IMPORTS**"
      ]
    },
    {
      "cell_type": "code",
      "metadata": {
        "id": "extsDdJFGiFo"
      },
      "source": [
        "from functools import lru_cache\n",
        "import numpy as np\n",
        "import matplotlib.pyplot as plt\n",
        "import random as rd\n"
      ],
      "execution_count": 1072,
      "outputs": []
    },
    {
      "cell_type": "markdown",
      "metadata": {
        "id": "I0bls8CB6reK"
      },
      "source": [
        "### **PARAMETRES**\n",
        "\n"
      ]
    },
    {
      "cell_type": "code",
      "metadata": {
        "id": "9SeLtIikWf-X"
      },
      "source": [
        "# Comportements de la reine/ponte\n",
        "x1=385\n",
        "x2=30\n",
        "x3=36\n",
        "x4=155 #jour de l'année où la reine pond le plus\n",
        "x5=30\n",
        "ELRbase=1600 # taux de ponte moyen de la reine (dépend de la reine, son âge etc ..)\n",
        "SUPtreshold=0.2 # si le taux de cellules vides est inférieur à cette limite alors il y a une diminution du taux de ponte (la reine a de plus en plus de mal à trouver des cellules disponibles)\n",
        "ELRstochrange=0 # facteur stochastique du taux de ponte de la reine\n",
        "\n",
        "# Cellules\n",
        "CELLShive=250000 # nb de cellules dans la ruche\n",
        "\n",
        "# Couvain\n",
        "LIFESPANegg =3 #durée max (en jours) de l'état oeuf\n",
        "LIFESPANlarvae =5 #durée max (en jours) de l'état larve\n",
        "LIFESPANpupae =12 #durée max (en jours) de l'état pupe \n",
        "MORTALITYeggs=0.03 # Mortalités (Plus le stade est avancé et moins le taux de mortalité est élevé)\n",
        "MORTALITYlarvae=0.01\n",
        "MORTALITYpupae=0.001\n",
        "CANNIBALISMbase=[0.23,0.3,0.58,0.06,0]  # Taux fixe de cannibalisme des larves en fonction de leur age (1-5 jours)\n",
        "\n",
        "# Abeilles adultes\n",
        "MORTALITYadultbase=0.01\n",
        "MORTALITYnursing = 0.005\n",
        "MORTALITYprocessing=0.005\n",
        "MORTALITYforaging=0.035\n",
        "\n",
        "# Facteurs liés aux ressources\n",
        "FACTORpollensavingmax = 0.30\n",
        "ratioNectar = 0.4\n",
        "FACTORothertasks = 0.2\n",
        "FACTORpollenstorage = 6\n",
        "FACTORminpollenforagers = 0.01\n",
        "FACTORforagingmax=0.33\n",
        "\n",
        "# Besoins\n",
        "NECTARNEEDactiveforager = 0.02 # à établir\n",
        "NECTARNEEDnurse = 0.02 #à établir\n",
        "NECTARNEEDadult = 0.005 #à établir\n",
        "NECTARNEEDlarva = [0.04,0.05,0.06,0.07,0.08] # à établir\n",
        "POLLENNEEDlarva = [0.04,0.05,0.06,0.07,0.08] # à établir\n",
        "POLLENNEEDadult = 0.08 # à établir\n",
        "POLLENNEEDnurse = 0.08 # à établir\n",
        "NEEDnurses_per_larva=[1,2,3,4,5] # à déterminer, augmentation exponentielle grandissant avec la masse de la larve\n",
        "NEEDnurses_per_egg=1 # à établir, moins important que pour les larves car pas besoin d'être nourrit\n",
        "NEEDnurses_per_pupa=1 # à établir, moins important que pour les larves car pas besoin d'être nourrit\n",
        "\n",
        "#Butinage\n",
        "LOADpollenforager = 0.06\n",
        "LOADnectarforager=0.04\n",
        "FACTORforagingsuccess=0.8\n",
        "TURNSnectarforager= 15\n",
        "TURNSpollenforager=10\n",
        "RATIOnectar_to_honey=0.4\n",
        "ProcessorsPerCell = 2\n",
        "stochasticForagingFactor = 0.25\n",
        "\n",
        "# Poids (en grammes)\n",
        "w_hivebase = 14000 # \n",
        "w_cellsbase = 0.037 #represents the weight of one empty cell (wax only).\n",
        "w_pollen = 0.23 # poids d'une cellule remplie de pollen\n",
        "w_nectar = 0.43 # poids d'une cellule remplie de nectar\n",
        "w_honey = 0.5 #poids d'une cellule remplie de miel\n",
        "w_egg = 0.0001\n",
        "w_pupa = 0.16\n",
        "w_larva = [0.0002,0.00059,0.00331,0.0644,0.160] #le poids d'une larve à l'état i ∈ {1,2,3,4,5}\n",
        "w_adult = 0.1"
      ],
      "execution_count": 1073,
      "outputs": []
    },
    {
      "cell_type": "markdown",
      "metadata": {
        "id": "Be1W2vj37XRY"
      },
      "source": [
        "### **FACTEUR SAISON (2.1)**\n"
      ]
    },
    {
      "cell_type": "code",
      "metadata": {
        "id": "1V0PmyK0rxaX"
      },
      "source": [
        "#--------------------------------------------------------------#\n",
        "@lru_cache(maxsize = None)\n",
        "def f(t):\n",
        "  return(1-1/(1+x1*np.exp(-2*t/x2)))\n",
        "\n",
        "#--------------------------------------------------------------#\n",
        "@lru_cache(maxsize = None)\n",
        "def g(t):\n",
        "  return(1/(1+x3*np.exp(-2*(t-x4)/x5))) \n",
        "\n",
        "#--------------------------------------------------------------#  \n",
        "\n",
        "#Facteur saison (t en jours [max 365 jours])\n",
        "@lru_cache(maxsize = None)\n",
        "def season(t):\n",
        "    return max(g(t),f(t))\n",
        "\n",
        "#--------------------------------------------------------------#"
      ],
      "execution_count": 1074,
      "outputs": []
    },
    {
      "cell_type": "markdown",
      "metadata": {
        "id": "L9yuZ2CS8zbT"
      },
      "source": [
        "### **CELLULES DANS LA RUCHE ET TAUX DE PONTE (2.1)**"
      ]
    },
    {
      "cell_type": "code",
      "metadata": {
        "id": "wQXxdGtgnwnz"
      },
      "source": [
        "\n",
        "#--------------------------------------------------------------#\n",
        "\n",
        "# Nombre de cellules disponibles (vides)\n",
        "@lru_cache(maxsize = None)\n",
        "def CELLSempty(t) :\n",
        "  if (t<=0):\n",
        "    return CELLShive\n",
        "\n",
        "  else :\n",
        "    return CELLShive - CELLSbrood(t)-STORESpollen(t)-STORESnectar(t)-STOREShoney(t)\n",
        "\n",
        "#--------------------------------------------------------------#\n",
        "\n",
        "# Fonction décrivant la diminution du taux de ponte lorsque le nombre de cellules disponibles devient limité \n",
        "@lru_cache(maxsize = None)\n",
        "def SUPcomb(t):\n",
        "  res = CELLSempty(t)/(CELLShive+1)\n",
        "  if (res <SUPtreshold):\n",
        "    return res / SUPtreshold\n",
        "  else :\n",
        "    return 1  \n",
        "\n",
        "#--------------------------------------------------------------#\n",
        "\n",
        "# Facteur stochastique (aléatoire) du taux de ponte\n",
        "@lru_cache(maxsize = None)\n",
        "def ELRstoch():\n",
        "  return rd.uniform(-ELRstochrange,ELRstochrange)\n",
        "\n",
        "#--------------------------------------------------------------#\n",
        "\n",
        "# Fonction prédictive du taux de ponte de la reine\n",
        "@lru_cache(maxsize = None) \n",
        "def ELR(t):\n",
        "    return ELRbase*(1+ELRstoch())*(1-season(t))*SUPcomb(t)  \n",
        "\n",
        "#--------------------------------------------------------------#    "
      ],
      "execution_count": 1075,
      "outputs": []
    },
    {
      "cell_type": "markdown",
      "metadata": {
        "id": "p_t3MbTS9T8f"
      },
      "source": [
        "### **OEUFS DANS LA RUCHE (2.2)**"
      ]
    },
    {
      "cell_type": "code",
      "metadata": {
        "id": "CgVXHEiunK1v"
      },
      "source": [
        "#--------------------------------------------------------------#    \n",
        "\n",
        "# Nombre d'oeuf au stade i à un instant t\n",
        "@lru_cache(maxsize = None)\n",
        "def EGGS(i,t):\n",
        "    if (t<=0) :\n",
        "      return 0\n",
        "    # i désigne l'âge de l'individu immature, t le jour\n",
        "    if i==1 :\n",
        "      return ELR(t-1) * (1-MORTALITYeggs)\n",
        "    elif i==2 or i==3 :\n",
        "      return EGGS(i-1,t-1)*(1-MORTALITYeggs)\n",
        "    else :\n",
        "      # Exception, la fonction EGGS n'est pas définie pour i qui n'appartient pas à [|1;3|]\n",
        "      print('Erreur, l age i n est pas possible pour la fonction EGGS daprès le modele')\n",
        "      return (-1)\n",
        "\n",
        "#--------------------------------------------------------------#    \n",
        "\n",
        "# Nombre de cellules contenant des oeufs dans la ruche à un instant t\n",
        "@lru_cache(maxsize = None) \n",
        "def CELLSeggs(t):\n",
        "  # Nombre total d'oeuf dans la ruche à un instant t \n",
        "  return sum([EGGS(i,t) for i in range(1,LIFESPANegg+1)])\n",
        "\n",
        "#--------------------------------------------------------------#   "
      ],
      "execution_count": 1076,
      "outputs": []
    },
    {
      "cell_type": "markdown",
      "metadata": {
        "id": "9-0y9kF4-zrS"
      },
      "source": [
        "### **LARVES DANS LA RUCHE (2.2)**"
      ]
    },
    {
      "cell_type": "code",
      "metadata": {
        "id": "eFk3EFe7ezK0"
      },
      "source": [
        "#--------------------------------------------------------------#\n",
        "\n",
        "# Taux de cannibalisme des larves\n",
        "@lru_cache(maxsize = None)\n",
        "def CANNIBALISMlarvae(i,t) :\n",
        "  return(CANNIBALISMbase[i-1] *(1-(INDEXpollensituation(t-1)*INDEXnursingquality(t-1))))\n",
        "\n",
        "#--------------------------------------------------------------#  \n",
        "\n",
        "# Taux de larves survivantes\n",
        "@lru_cache(maxsize = None)\n",
        "def SURVIVALlarvae(i,t):\n",
        "  return((1-CANNIBALISMlarvae(i,t))*(1-MORTALITYlarvae))\n",
        "\n",
        "#--------------------------------------------------------------#  \n",
        "\n",
        "# Nombre de larves au stade i à un instant t\n",
        "@lru_cache(maxsize = None)\n",
        "def LARVAE(i,t):\n",
        "  if (t<=0) :\n",
        "    return 0\n",
        "  # i désigne l'âge de l'individu immature, t le jour\n",
        "  if i==1 :\n",
        "    return EGGS(LIFESPANegg,t-1)*SURVIVALlarvae(1,t)\n",
        "  elif i>1 and i<=LIFESPANlarvae :\n",
        "    return LARVAE(i-1,t-1)*SURVIVALlarvae(i,t)\n",
        "  else :\n",
        "    # Exception, la fonction LARVAE n'est pas définie pour i qui n'appartient pas à [|1;LIFESPANlarvae|]\n",
        "    print('Erreur, l age i n est pas possible pour la fonction LARVAE daprès le modele')\n",
        "    return (-1)\n",
        "\n",
        "#--------------------------------------------------------------#\n",
        "\n",
        "# Nombre de cellules contenant des larves dans la ruche à un instant t\n",
        "@lru_cache(maxsize = None) \n",
        "def CELLSlarvae(t):\n",
        "  # Nombre total de larves dans la ruche à un instant t  \n",
        "  return sum([LARVAE(i,t) for i in range(1,LIFESPANlarvae+1)])\n",
        "\n",
        "#--------------------------------------------------------------#"
      ],
      "execution_count": 1077,
      "outputs": []
    },
    {
      "cell_type": "markdown",
      "metadata": {
        "id": "GiwfCvMx_Ypb"
      },
      "source": [
        "### **PUPES DANS LA RUCHE (2.2)**"
      ]
    },
    {
      "cell_type": "code",
      "metadata": {
        "id": "b8pdsGN3QvDq"
      },
      "source": [
        "#--------------------------------------------------------------#\n",
        "\n",
        "# Nombre de pupes au stade i à un instant t\n",
        "@lru_cache(maxsize = None)\n",
        "def PUPAE(i,t):\n",
        "  if (t<=0) :\n",
        "    return 0\n",
        "  # i désigne l'âge de l'individu immature, t le jour\n",
        "  if i==1 :\n",
        "    return LARVAE(LIFESPANlarvae,t-1)*(1-MORTALITYpupae)\n",
        "  elif i>1 and i<=LIFESPANpupae :\n",
        "    return PUPAE(i-1,t-1)*(1-MORTALITYpupae)\n",
        "  else :\n",
        "    # Exception, la fonction PUPAE n'est pas définie pour i qui n'appartient pas à [|1;LIFESPANpupae|]\n",
        "    print('Erreur, l age i n est pas possible pour la fonction PUPAE daprès le modele')\n",
        "    return (-1)\n",
        "\n",
        "#--------------------------------------------------------------#\n",
        "\n",
        "# Nombre de cellules contenant des pupes dans la ruche à un instant t \n",
        "@lru_cache(maxsize = None)\n",
        "def CELLSpupae(t):\n",
        "  # Nombre total de pupes dans la ruche à un instant t  \n",
        "  return sum([PUPAE(i,t) for i in range(1,LIFESPANpupae+1)])\n",
        "\n",
        "#--------------------------------------------------------------#"
      ],
      "execution_count": 1078,
      "outputs": []
    },
    {
      "cell_type": "markdown",
      "metadata": {
        "id": "Ql4CeX-nAokK"
      },
      "source": [
        "### **CELLULES DU COUVAIN DANS LA RUCHE (2.2)**"
      ]
    },
    {
      "cell_type": "code",
      "metadata": {
        "id": "lkXnBYhfWBQg"
      },
      "source": [
        "#--------------------------------------------------------------#\n",
        "@lru_cache(maxsize = None)\n",
        "def CELLSbrood(t):\n",
        "  # Nombre d'individus en phase de développement dans la ruche (oeufs+larves+pupes)\n",
        "  return CELLSeggs(t) + CELLSlarvae(t) + CELLSpupae(t)\n",
        "#--------------------------------------------------------------#  "
      ],
      "execution_count": 1079,
      "outputs": []
    },
    {
      "cell_type": "markdown",
      "metadata": {
        "id": "UMk65x_EAvZa"
      },
      "source": [
        "### **MORTALITE DES ABEILLES ADULTES (2.3)**"
      ]
    },
    {
      "cell_type": "code",
      "metadata": {
        "id": "AZcqAmFdEJjE"
      },
      "source": [
        "#--------------------------------------------------------------#\n",
        "\n",
        "# Taux de mortalité des abeilles adultes à un instant t\n",
        "@lru_cache(maxsize = None)\n",
        "def MORTALITYadult(t):\n",
        "  return MORTALITYadultbase + MORTALITYnursing*(NURSES(t-1)/(BEESadult(t-1)+1))+MORTALITYprocessing*(PROCESSORS(t-1)/(BEESadult(t-1)+1))+MORTALITYforaging*(FORAGERSactive(t-1)/(BEESadult(t-1)+1))\n",
        "\n",
        "#--------------------------------------------------------------#\n",
        "\n",
        "# Nombre d'abeilles adultes à un instant t\n",
        "@lru_cache(maxsize = None)\n",
        "def BEESadult(t):\n",
        "  if (t<=0) :\n",
        "    return 15000\n",
        "  else :\n",
        "    return (BEESadult(t-1)+PUPAE(LIFESPANpupae,t-1))*(1-MORTALITYadult(t))\n",
        "\n",
        "#--------------------------------------------------------------#"
      ],
      "execution_count": 1080,
      "outputs": []
    },
    {
      "cell_type": "markdown",
      "metadata": {
        "id": "_87lFWAQBhga"
      },
      "source": [
        "### **INFLUENCE DE LA TEMPERATURE ET DU CLIMAT SUR LE BUTINAGE (2.4)**"
      ]
    },
    {
      "cell_type": "code",
      "metadata": {
        "id": "-f7KBroOu-qe"
      },
      "source": [
        "#--------------------------------------------------------------#\n",
        "\n",
        "# Etant donné un jour de l'année (entre 1 et 365) renvoie son mois associé\n",
        "@lru_cache(maxsize = None)\n",
        "def mois(t):\n",
        "  if (isinstance(t,int)) :\n",
        "\n",
        "    if (t>= 1 and t<=31 ):\n",
        "      # Janvier\n",
        "      return 1\n",
        "    \n",
        "    #Dans le modèle on considère une année commune et non bissextile. Février -> 28 jours\n",
        "    if (t>= 32 and t<=59 ):\n",
        "      #Février\n",
        "      return 2\n",
        "\n",
        "    if (t>= 60 and t<=90 ):\n",
        "      # Mars\n",
        "      return 3  \n",
        "\n",
        "    if (t>= 91 and t<=120 ):\n",
        "      # Avril\n",
        "      return 4 \n",
        "\n",
        "    if (t>= 121 and t<=151):\n",
        "      # Mai\n",
        "      return 5\n",
        "    \n",
        "    if (t>= 152 and t<=181):\n",
        "      # Juin\n",
        "      return 6\n",
        "\n",
        "    if (t>= 182 and t<=212):\n",
        "      # Juillet\n",
        "      return 7  \n",
        "    \n",
        "    if (t>= 213 and t<=243):\n",
        "      # Août\n",
        "      return 8    \n",
        "    \n",
        "    if (t>= 244 and t<=273):\n",
        "      # Septembre\n",
        "      return 9\n",
        "    \n",
        "    if (t>= 274 and t<=304):\n",
        "      # Octobre\n",
        "      return 10\n",
        "\n",
        "    if (t>= 305 and t<=334):\n",
        "      # Novembre\n",
        "      return 11\n",
        "        \n",
        "    if (t>= 335 and t<=365):\n",
        "      # Décembre\n",
        "      return 12\n",
        "  \n",
        "  else :\n",
        "    # t n'est pas entier ou n'appartient pas à [|1;365|]\n",
        "    return -1\n",
        "\n",
        "#--------------------------------------------------------------#  \n",
        "\n",
        "# Donne la température pour le jour t\n",
        "@lru_cache(maxsize = None) \n",
        "def TEMP(t):\n",
        "  # On utilise la temperature moyenne de Pau (Béarn) en 2020 par mois (de Janvier à Décembre)\n",
        "  # Source : https://www.historique-meteo.net/france/aquitaine/pau-bearn/2020/\n",
        "  temp_moy=[11,14,13,18,20,21,25,27,25,16,16,8]\n",
        "  return temp_moy[mois(t)-1]\n",
        "\n",
        "#--------------------------------------------------------------#  \n",
        "\n",
        "# Donne la durée (en heures) pedant laquelle il pleut lorsqu'il fait jour \n",
        "@lru_cache(maxsize = None)\n",
        "def HOURSraining_during_daylight(t):\n",
        "  mois_courant = mois(t)\n",
        "  # Janvier Avril, Mai et Novembre sont les mois les plus pluvieux\n",
        "  if (mois_courant ==1 or mois_courant ==4 or mois_courant ==5 or mois_courant ==11):\n",
        "    hoursdaylight=HOURSdaylight(t)\n",
        "    rdm = rd.randint(1,3)\n",
        "    if (rdm == 1):\n",
        "      return (hoursdaylight /4)\n",
        "\n",
        "    elif (rdm == 2) :\n",
        "      return  (hoursdaylight / 2)\n",
        "\n",
        "    else :\n",
        "      return (hoursdaylight)  \n",
        "        \n",
        "  # On considère que pour les autres mois la pluie n'affecte pas le butinage\n",
        "  else :\n",
        "    return 0 \n",
        "\n",
        "  # Source pluies : https://www.ou-et-quand.net/partir/quand/france/aquitaine/pau-bearn/#:~:text=En%20moyenne%2C%20les%20mois%20les,Janvier%2C%20Avril%2C%20Mai%20et%20Novembre\n",
        " \n",
        "#--------------------------------------------------------------#  \n",
        "\n",
        "# Donne la durée (en heures) pedant laquelle il pleut lorsqu'il fait jour\n",
        "@lru_cache(maxsize = None)\n",
        "def HOURSdaylight(t):\n",
        "  mois_courant = mois(t)\n",
        "  \n",
        "  # Source : http://calendriersolaire.com/fr/pau\n",
        "  lumierejour = [9,11,13,16]\n",
        "  if (mois_courant == 1 or mois_courant == 2 or mois_courant ==12):\n",
        "    return lumierejour[0]\n",
        "  \n",
        "  if (mois_courant==3 or mois_courant==4 or mois_courant==10 or mois_courant==11):\n",
        "    return lumierejour[1]\n",
        "  \n",
        "  if (mois_courant == 5 or mois_courant ==9):\n",
        "    return lumierejour[2]\n",
        "\n",
        "  if (mois_courant >= 6 and mois_courant <=8):\n",
        "    return lumierejour[3]\n",
        "\n",
        "  #Erreur de mois, t'es n'appartient pas à [|1;365|]\n",
        "  return(-1)\n",
        "\n",
        "\n",
        "#--------------------------------------------------------------#\n",
        "\n",
        "# Taux de pluie lorsqu'il fait jour\n",
        "@lru_cache(maxsize = None)\n",
        "def RAIN(t):\n",
        "  if (t <=0):\n",
        "    return 0\n",
        "  else:\n",
        "    return (HOURSraining_during_daylight(t)/HOURSdaylight(t))\n",
        "\n",
        "#--------------------------------------------------------------#\n",
        "\n",
        " \n",
        "# Proche de 1 -> la pluie n'a pas empêché les abeilles d'aller butiner au jour t. \n",
        "# Proche de 0 -> la pluie a empêché les abeilles d'aller butiner pendant la quasi totalité de la journée.\n",
        "@lru_cache(maxsize = None)\n",
        "def INDEXrain(t):\n",
        "  return 1-RAIN(t)\n",
        "\n",
        "#--------------------------------------------------------------#  Facteur saison\n",
        "\n",
        "# Proche de 1 -> la température était favorable au butinage au jour t. \n",
        "# Proche de 0 -> la température a empêché les abeilles d'aller butiner pendant la quasi totalité de la journée.\n",
        "@lru_cache(maxsize = None)\n",
        "def INDEXtemperature(t):\n",
        "  if (t<= 0):\n",
        "    return 0\n",
        "  else:\n",
        "    temp = TEMP(t)\n",
        "    if (temp <= 14):\n",
        "      return 0\n",
        "    \n",
        "    if (temp > 14 and temp <= 22):\n",
        "      return (temp-14)/8\n",
        "\n",
        "    if (temp > 22 and temp <= 32):\n",
        "      return 1\n",
        "    \n",
        "    if (temp > 32 and temp <= 40):\n",
        "      return (40-temp)/8  \n",
        "    \n",
        "    if (temp > 40):\n",
        "      return 0\n",
        "\n",
        "#--------------------------------------------------------------# \n",
        "\n",
        "# Proche de 1 -> Les conditions climatiques étaient favorables au butinage. \n",
        "# Proche de 0 -> Les conditions climatiques ont empêché les abeilles d'aller butiner pendant la quasi totalité de la journée.\n",
        "@lru_cache(maxsize = None)\n",
        "def INDEXflight(t):\n",
        "  return INDEXrain(t) * INDEXtemperature(t)\n",
        "\n",
        "#--------------------------------------------------------------# \n",
        "@lru_cache(maxsize = None)\n",
        "def INDEXnectaroutside(t):\n",
        "  return min((1-season(t))*1.5,1)\n",
        "\n",
        "#--------------------------------------------------------------# \n",
        "@lru_cache(maxsize = None)\n",
        "def INDEXpollenoutside(t):\n",
        "  return min((1-season(t))*1.5,1)\n",
        "\n",
        "#--------------------------------------------------------------#"
      ],
      "execution_count": 1081,
      "outputs": []
    },
    {
      "cell_type": "markdown",
      "metadata": {
        "id": "Zmzg5lrXCvt_"
      },
      "source": [
        "### **DECISION ET REGULATION DES TACHES DE TRAVAIL (2.5 et 2.6)**"
      ]
    },
    {
      "cell_type": "code",
      "metadata": {
        "id": "ZV8xoq3DO1Gi"
      },
      "source": [
        "#--------------------------------------------------------------#\n",
        "@lru_cache(maxsize = None)\n",
        "def NEEDworkers(t):\n",
        "\treturn NEEDnurses(t)+NEEDpollenforagers(t)\n",
        "\n",
        "#--------------------------------------------------------------#\n",
        "@lru_cache(maxsize = None)\n",
        "def RATIOworkforce(t):\n",
        "\tratio=(BEESadult(t)*(1-FACTORothertasks))/(NEEDworkers(t)+1)\n",
        "\tif ratio<1:\n",
        "\t\treturn ratio\n",
        "\telse:\n",
        "\t\treturn 1\n",
        "\n",
        "#--------------------------------------------------------------#\n",
        "@lru_cache(maxsize = None)\n",
        "def NEEDnurses(t):\n",
        "\ttotal=0\n",
        "\tfor i in range(1,LIFESPANlarvae+1):\n",
        "\t\ttotal+=LARVAE(i,t)*NEEDnurses_per_larva[i-1]\n",
        "\treturn total+(CELLSeggs(t)*NEEDnurses_per_egg)+(CELLSpupae(t)*NEEDnurses_per_pupa)\n",
        "\n",
        "#--------------------------------------------------------------#\n",
        "@lru_cache(maxsize = None)\n",
        "def NURSES(t):\n",
        "\treturn NEEDnurses(t)*RATIOworkforce(t)\n",
        "\n",
        "#--------------------------------------------------------------#\n",
        "@lru_cache(maxsize = None)\n",
        "def INDEXnursingquality(t):\n",
        "\treturn NURSES(t)/(NEEDnurses(t)+1)\n",
        "\n",
        "#--------------------------------------------------------------#"
      ],
      "execution_count": 1082,
      "outputs": []
    },
    {
      "cell_type": "markdown",
      "metadata": {
        "id": "C_qlQ1nBHEtn"
      },
      "source": [
        "### **BUTINAGE ET BESOINS EN RESSOURCES (2.7)**"
      ]
    },
    {
      "cell_type": "code",
      "metadata": {
        "id": "PbGTqe2FP3t9"
      },
      "source": [
        "#--------------------------------------------------------------#\n",
        "\n",
        "# Nombre de butineuses\n",
        "@lru_cache(maxsize = None)\n",
        "def FORAGERS(t):\n",
        "\treturn FORAGERSpollen(t) + FORAGERSnectar(t)\n",
        "\n",
        "#--------------------------------------------------------------#\n",
        "\n",
        "# Calculate the actual number of foragers that fly out\n",
        "# Parameter :\n",
        "#\tt : day number\n",
        "@lru_cache(maxsize = None)\n",
        "def FORAGERSactive(t):\n",
        "\treturn FORAGERSpollenactive(t) + FORAGERSnectaractive(t)\n",
        "\n",
        "#--------------------------------------------------------------#\n",
        "@lru_cache(maxsize = None)\n",
        "def FORAGERSnectaractive(t):\n",
        "  return FORAGERSnectar(t)*INDEXflight(t)*INDEXnectaroutside(t)\n",
        "\n",
        "#--------------------------------------------------------------#\n",
        "@lru_cache(maxsize = None)\n",
        "def FORAGERSnectar(t):\n",
        "  return min(BEESadult(t)*FACTORforagingmax-FORAGERSpollen(t),WORKFORCEnectar(t)-PROCESSORS(t))\n",
        "\n",
        "#--------------------------------------------------------------#\n",
        "@lru_cache(maxsize = None)\n",
        "def NEEDpollen(t): \n",
        "  if (t<=0):\n",
        "    return 0\n",
        "  else:\n",
        "    return NEEDpollen_larvae(t)+NEEDpollen_adult(t)\n",
        "\n",
        "#--------------------------------------------------------------#\n",
        "\n",
        "# Returns the pollen demands of the larvae of all ages (i)\n",
        "# Parameter :\n",
        "#\tt : day number\n",
        "@lru_cache(maxsize = None)\n",
        "def NEEDpollen_larvae(t):\n",
        "\tres = 0\n",
        "\tfor i in range(1,LIFESPANlarvae+1):\n",
        "\t\tres = res + POLLENNEEDlarva[i-1]*LARVAE(i,t)\n",
        "\treturn res\n",
        "\n",
        "#--------------------------------------------------------------#\n",
        "\n",
        "# The adult’s pollen demand is calculated by adding the \n",
        "# basic daily pollen demand of adult bees (a constant, \n",
        "# POLLEN-NEEDadult) and an additional daily pollen demand\n",
        "#of nursing bees (a constant, POLLENNEEDnurse).\n",
        "# Parameter :\n",
        "#\tt : day number\n",
        "@lru_cache(maxsize = None)\n",
        "def NEEDpollen_adult(t):\n",
        "\treturn BEESadult(t)*POLLENNEEDadult + NURSES(t)*POLLENNEEDnurse\n",
        "\n",
        "#--------------------------------------------------------------#\n",
        "\n",
        "# Returns the daily need for pollen income. We use a \n",
        "# gliding average throughout 3 days (d goes from 0 to 2) \n",
        "# to model the needed pollen income.\n",
        "# Parameter :\n",
        "#\tt : day number\n",
        "@lru_cache(maxsize = None)\n",
        "def NEEDpollenincome(t):\n",
        "\tacc = 0\n",
        "\tfor d in range(0,3):\n",
        "\t\tacc = acc + NEEDpollen(t-d)\n",
        "\tacc = acc/3\n",
        "\tacc = acc * FACTORpollenstorage - STORESpollen(t)\n",
        "\treturn max(0, acc)\n",
        "\n",
        "#--------------------------------------------------------------#\n",
        "\n",
        "# calculate the needed number of pollen foragers \n",
        "# NEEDpollenforagers(t).\n",
        "# LOADpollenforager is the amount of pollen collected \n",
        "# per foraging trip; expressed in the unit “cellfuls”\n",
        "# TURNSpollenforager is the number of trips performed \n",
        "# per forager per day\n",
        "# Parameter :\n",
        "#\tt : day number\n",
        "@lru_cache(maxsize = None)\n",
        "def NEEDpollenforagers(t):\n",
        "\treturn (NEEDpollenincome(t-1) / (LOADpollenforager*TURNSpollenforager*FACTORforagingsuccess))\n",
        "\n",
        "#--------------------------------------------------------------#\n",
        "\n",
        "# Models the potential number of pollen foragers \n",
        "# each day.\n",
        "# Parameter :\n",
        "#\tt : day number\n",
        "@lru_cache(maxsize = None)\n",
        "def FORAGERSpollen(t):\n",
        "\tmaximum = max(NEEDpollenforagers(t)*RATIOworkforce(t), (BEESadult(t)-NURSES(t))*FACTORminpollenforagers )\n",
        "\treturn min(maximum, BEESadult(t)*FACTORforagingmax)\n",
        "\n",
        "#--------------------------------------------------------------#\n",
        "\n",
        "# Models the number of fragers that actually leave the \n",
        "# hive for foraging flights. It depends on two\n",
        "# environmental factors : INDEXflight(t) expresses the \n",
        "# weather situation each day and INDEXpollenoutside(t)\n",
        "# expresses the botanical pollen availability each day.\n",
        "# Parameter :\n",
        "#\tt : day number\n",
        "@lru_cache(maxsize = None)\n",
        "def FORAGERSpollenactive(t):\n",
        "\treturn FORAGERSpollen(t)*INDEXflight(t)*INDEXpollenoutside(t)\n",
        " \n",
        "\n",
        "#--------------------------------------------------------------#\n",
        "\n",
        "# Models the demand for nectar (quite similar to the \n",
        "# pollen demand with the additional complication that\n",
        "# the active foragers are also important nectar \n",
        "# consumers).\n",
        "# Parameter :\n",
        "#\tt : day number\n",
        "@lru_cache(maxsize = None)\n",
        "def NEEDnectar(t):\n",
        "  return NEEDnectar_larvae(t)+NEEDnectar_adult(t)\n",
        "#--------------------------------------------------------------#\n",
        "\n",
        "# Returns the nectar demands of the larvae of all ages (i)\n",
        "# Parameter :\n",
        "#\tt : day number\n",
        "@lru_cache(maxsize = None)\n",
        "def NEEDnectar_larvae(t):\n",
        "\tacc = 0\n",
        "\tfor i in range(1,LIFESPANlarvae+1):\n",
        "\t  acc = acc + (NECTARNEEDlarva[i-1]*LARVAE(i,t))\n",
        "\treturn acc\n",
        "\n",
        "#--------------------------------------------------------------#\n",
        "\n",
        "# Returns the nectar demands of adult bees\n",
        "# Parameter :\n",
        "#\tt : day number\n",
        "@lru_cache(maxsize = None)\n",
        "def NEEDnectar_adult(t):\n",
        "\t# nectar needed for adult bees\n",
        "\tnectar_adults = BEESadult(t)*NECTARNEEDadult\n",
        "\n",
        "\t# nectar needed for nurses\n",
        "\tnectar_nurses = NURSES(t)*NECTARNEEDnurse\n",
        "\n",
        "\t# nectar needed for active foragers\n",
        "\tnectar_foragers = FORAGERSactive(t)*NECTARNEEDactiveforager\n",
        "\t\n",
        "\t# Returns the nectar demands of adult bees\n",
        "\treturn nectar_adults+nectar_nurses+nectar_foragers\n",
        "\n",
        "#--------------------------------------------------------------#\n",
        "\n",
        "# Because the number of available workers could already \n",
        "# be recruited for the high-priority jobs “nursing” and \n",
        "# “pollen foraging” (RATIOworkforce < 1), it is \n",
        "# necessary to limit WORFORCEnectar(t) to non-negative \n",
        "# values.\n",
        "# Parameter :\n",
        "#\tt : day number\n",
        "@lru_cache(maxsize = None)\n",
        "def WORKFORCEnectar(t):\n",
        "\tif RATIOworkforce(t)==1:\n",
        "\t\tres = BEESadult(t)*(1-FACTORothertasks)\n",
        "\t\treturn res-NURSES(t)-FORAGERSpollen(t)\n",
        "\telse :\n",
        "\t\treturn 0\n",
        "\n",
        "#--------------------------------------------------------------#"
      ],
      "execution_count": 1083,
      "outputs": []
    },
    {
      "cell_type": "markdown",
      "metadata": {
        "id": "xoWB_GRcHcIK"
      },
      "source": [
        "### **FLUX DE RESSOURCES ET TRAITEMENT DE LA NOURRITURE AU SEIN DE LA COLONIE (2.8  et 2.9)**"
      ]
    },
    {
      "cell_type": "code",
      "metadata": {
        "id": "KUANae53mk-M"
      },
      "source": [
        "#--------------------------------------------------------------#\n",
        "@lru_cache(maxsize = None)\n",
        "def INCOMEpollen(t):\n",
        "    return FORAGERSpollenactive(t) * LOADpollenforager * TURNSpollenforager * FACTORforagingstoch(t) * FACTORforagingsuccess\n",
        "\n",
        "#--------------------------------------------------------------#\n",
        "@lru_cache(maxsize = None)\n",
        "def FACTORforagingstoch(t):\n",
        "    return(rd.uniform(1-stochasticForagingFactor , 1+stochasticForagingFactor))\n",
        "\n",
        "#--------------------------------------------------------------#\n",
        "@lru_cache(maxsize = None)\n",
        "def INDEXpollensituation(t):\n",
        "    return(min([1 , (STORESpollen(t)) / (NEEDpollen(t)*FACTORpollenstorage+1)]))\n",
        "\n",
        "#--------------------------------------------------------------#\n",
        "@lru_cache(maxsize = None)\n",
        "def INCOMEnectar(t):\n",
        "    return(min([FORAGERSnectaractive(t) * LOADnectarforager * TURNSnectarforager * FACTORforagingstoch(t) * FACTORforagingsuccess , CELLSempty(t-1)]))\n",
        "\n",
        "#--------------------------------------------------------------#\n",
        "@lru_cache(maxsize = None)\n",
        "def NEEDprocessors(t):\n",
        "    return STORESnectar(t-1) * ProcessorsPerCell\n",
        "\n",
        "#--------------------------------------------------------------#\n",
        "@lru_cache(maxsize = None)\n",
        "def PROCESSORS(t):\n",
        "    return(min([NEEDprocessors(t) , WORKFORCEnectar(t)]))\n",
        "\n",
        "#--------------------------------------------------------------#\n",
        "@lru_cache(maxsize = None)\n",
        "def PROCESSEDnectar(t):\n",
        "    return(min([STORESnectar(t-1) - USAGEnectar(t) , PROCESSORS(t) / ProcessorsPerCell]))\n",
        "\n",
        "#--------------------------------------------------------------#"
      ],
      "execution_count": 1084,
      "outputs": []
    },
    {
      "cell_type": "markdown",
      "metadata": {
        "id": "mj2uDjYEIdIC"
      },
      "source": [
        "### **GESTION DES RESSOURCES ET TRAITEMENT (2.10)**"
      ]
    },
    {
      "cell_type": "code",
      "metadata": {
        "id": "ZijEi2ayopcG"
      },
      "source": [
        "#--------------------------------------------------------------#\n",
        "# Name : USAGEnectar(t)\n",
        "# Author : Romain ROYER\n",
        "# Description : Models the nectar usage in the colony.\n",
        "# Parameter : day number.\n",
        "# Variation : none.\n",
        "@lru_cache(maxsize = None)\n",
        "def USAGEnectar(t):\n",
        "    liste_var = []\n",
        "    needNectar_var = NEEDnectar(t)\n",
        "    storeNectar_var = STORESnectar(t-1)\n",
        "    liste_var.append(needNectar_var)\n",
        "    liste_var.append(storeNectar_var)\n",
        "    return min(liste_var)\n",
        "\n",
        "#--------------------------------------------------------------#\n",
        "# Name : USAGEpollen(t)\n",
        "# Author : Romain ROYER\n",
        "# Description : Models the pollen usage in the colony.\n",
        "# Parameter : day number.\n",
        "# Variation : none.\n",
        "@lru_cache(maxsize = None)\n",
        "def USAGEpollen(t):\n",
        "    liste_var = []\n",
        "    needPollen_var = NEEDpollen(t-1)*(1-(FACTORpollensavingmax*(1-INDEXpollensituation(t-1))))\n",
        "    storePollen_var = STORESpollen(t-1)\n",
        "\n",
        "    liste_var.append(needPollen_var)\n",
        "    liste_var.append(storePollen_var)\n",
        "    return min(liste_var)\n",
        "\n",
        "#--------------------------------------------------------------#\n",
        "# Name : USAGEhoney(t)\n",
        "# Author : Romain ROYER\n",
        "# Description : Models the honey usage in the colony.\n",
        "# Parameter : day number.\n",
        "# Variation : none.\n",
        "@lru_cache(maxsize = None)\n",
        "def USAGEhoney(t):\n",
        "    liste_var = []\n",
        "    storeHoney_var = STOREShoney(t-1)\n",
        "    nectar_var = (NEEDnectar(t)-USAGEnectar(t))*ratioNectar\n",
        "    liste_var.append(storeHoney_var)\n",
        "    liste_var.append(nectar_var)\n",
        "\n",
        "    return min(liste_var)\n",
        "\n",
        "\n",
        "#--------------------------------------------------------------#\n",
        "# Name : STORESpollen(t)\n",
        "# Author : Romain ROYER\n",
        "# Description : Models the pollen storage in the colony.\n",
        "# Parameter : day number.\n",
        "# Variation : none.\n",
        "@lru_cache(maxsize = None)\n",
        "def STORESpollen(t):\n",
        "    if (t<=0):\n",
        "      return 0\n",
        "    else:\n",
        "      return STORESpollen(t-1)+INCOMEpollen(t)-USAGEpollen(t)\n",
        "\n",
        "#--------------------------------------------------------------#\n",
        "# Name : STORESnectar(t)\n",
        "# Author : Romain ROYER\n",
        "# Description : Models the nectar storage in the colony.\n",
        "# Parameter : day number.\n",
        "# Variation : none.\n",
        "@lru_cache(maxsize = None)\n",
        "def STORESnectar(t):\n",
        "  if (t<=0):\n",
        "    return 0\n",
        "  else :\n",
        "    return STORESnectar(t-1)+INCOMEnectar(t)-USAGEnectar(t)-PROCESSEDnectar(t)\n",
        "\n",
        "#--------------------------------------------------------------#\n",
        "# Name : STOREShoney(t)\n",
        "# Author : Romain ROYER\n",
        "# Description : Models the honey storage in the colony.\n",
        "# Parameter : day number.\n",
        "# Variation : none.\n",
        "@lru_cache(maxsize = None)\n",
        "def STOREShoney(t):\n",
        "  if (t<=0):\n",
        "    return 50000\n",
        "  else :  \n",
        "    return STOREShoney(t-1)-USAGEhoney(t)+(PROCESSEDnectar(t)*ratioNectar)\n",
        "\n",
        "#--------------------------------------------------------------#\n",
        "# Name : WEIGHTcolony(t)\n",
        "# Author : Romain ROYER\n",
        "# Description : Models the colony weight.\n",
        "# Parameter : day number.\n",
        "# Variation : none.\n",
        "#Result in kilogramme\n",
        "@lru_cache(maxsize = None)\n",
        "def WEIGHTcolony(t):\n",
        "  somme_res = 0\n",
        "  for i in range (1, LIFESPANlarvae):\n",
        "    somme_res += w_larva[i-1]*LARVAE(i,t)\n",
        "  return 1/1000 * (w_hivebase + (w_cellsbase * CELLShive) + (w_pollen * STORESpollen(t)) + (w_nectar * STORESnectar(t)) + (w_honey * STOREShoney(t)) + (w_egg * CELLSeggs(t)) + (w_pupa * CELLSpupae(t)) + somme_res + w_adult * BEESadult(t) )\n",
        "\n",
        "#--------------------------------------------------------------#\n",
        "# Name : BEESlazy(t)\n",
        "# Author : Romain ROYER\n",
        "# Description : Models the number of lazy bees in the colony.\n",
        "# Parameter : day number.\n",
        "# Variation : none.\n",
        "@lru_cache(maxsize = None)\n",
        "def BEESlazy(t):\n",
        "    return (BEESadult(t)*(1-FACTORothertasks))-FORAGERSactive(t)-NURSES(t)-PROCESSORS(t)\n",
        "\n",
        "#--------------------------------------------------------------#"
      ],
      "execution_count": 1085,
      "outputs": []
    },
    {
      "cell_type": "markdown",
      "metadata": {
        "id": "L3lVb-NZJeSt"
      },
      "source": [
        "### **TEST DES FONCTIONS**"
      ]
    },
    {
      "cell_type": "code",
      "metadata": {
        "colab": {
          "base_uri": "https://localhost:8080/"
        },
        "id": "0_LwLUeBKuan",
        "outputId": "824d6152-d896-441e-9928-667d58c67b6d"
      },
      "source": [
        "STOREShoney(50)"
      ],
      "execution_count": 1086,
      "outputs": [
        {
          "output_type": "execute_result",
          "data": {
            "text/plain": [
              "48724.91250227916"
            ]
          },
          "metadata": {
            "tags": []
          },
          "execution_count": 1086
        }
      ]
    },
    {
      "cell_type": "markdown",
      "metadata": {
        "id": "EkdMns6ZKn2s"
      },
      "source": [
        "### **PLOTS**"
      ]
    },
    {
      "cell_type": "code",
      "metadata": {
        "id": "Uu-0dLQzKFTs",
        "colab": {
          "base_uri": "https://localhost:8080/",
          "height": 295
        },
        "outputId": "6d41f0c3-6d56-4170-8cc7-1527db4a9ab5"
      },
      "source": [
        "# Facteur saison (2.1)\n",
        "X=[i for i in range(1,366)] \n",
        "Y=[season(i) for i in X]\n",
        "\n",
        "plt.title('Facteur saison en fonction du temps')\n",
        "plt.ylabel('season(t)')\n",
        "plt.xlabel('t (en jours)')\n",
        "\n",
        "plt.plot(X,Y)\n",
        "plt.show()"
      ],
      "execution_count": 1087,
      "outputs": [
        {
          "output_type": "display_data",
          "data": {
            "image/png": "[encoded data removed]",
            "text/plain": [
              "<Figure size 432x288 with 1 Axes>"
            ]
          },
          "metadata": {
            "tags": [],
            "needs_background": "light"
          }
        }
      ]
    },
    {
      "cell_type": "code",
      "metadata": {
        "id": "WXDNaB0JdRFf",
        "colab": {
          "base_uri": "https://localhost:8080/",
          "height": 295
        },
        "outputId": "ddde7f0a-826f-4dac-de2b-89588fb986ff"
      },
      "source": [
        "# Facteurs climatiques  (2.4)\n",
        "X=[i for i in range(1,366)] \n",
        "Y=[INDEXrain(i) for i in X] #Bleu\n",
        "Y2=[INDEXflight(i) for i in X] #Orange\n",
        "\n",
        "plt.title('INDEXflight (orange) et INDEXrain (bleu) en fonction du temps')\n",
        "plt.ylabel('INDEXflight(t) || INDEXrain(t)')\n",
        "plt.xlabel('t (en jours)')\n",
        "\n",
        "\n",
        "plt.plot(X,Y)\n",
        "plt.plot(X,Y2)\n",
        "\n",
        "\n",
        "plt.show()\n",
        "\n",
        "### INTERPRETATION\n",
        "# On rappelle que les valeurs proches de 1 indiquent que les conditions (temperature, pluie) sont favorables au butinage et celles proches de 0 sont défavorables.\n",
        "# Pendant l'hiver, les faibles temperatures empêchent les abeilles d'aller butiner. C'est tout le contraire en été, où les conditions climatiques sont excellentes.\n",
        "# De plus le facteur aléatoire lié à la pluie a un impact néfaste durant la période pluvieuse ce qui se traduit relativement bien sur ce modèle très simpliste.\n"
      ],
      "execution_count": 1088,
      "outputs": [
        {
          "output_type": "display_data",
          "data": {
            "image/png": "[encoded data removed]",
            "text/plain": [
              "<Figure size 432x288 with 1 Axes>"
            ]
          },
          "metadata": {
            "tags": [],
            "needs_background": "light"
          }
        }
      ]
    },
    {
      "cell_type": "code",
      "metadata": {
        "colab": {
          "base_uri": "https://localhost:8080/",
          "height": 295
        },
        "id": "HavKmREgi3GK",
        "outputId": "e815cc9f-cf74-420d-b93a-acc2f3a0efe0"
      },
      "source": [
        "# CELLSbrood\r\n",
        "# Nombre d'individus en phase de développement dans la ruche (oeufs+larves+pupes)\r\n",
        "X=[i for i in range(1,366)] \r\n",
        "Y=[CELLSbrood(i) for i in X] #Bleu\r\n",
        "\r\n",
        "plt.title('CELLSbrood (bleu) en fonction du temps')\r\n",
        "plt.ylabel('CELLSbrood(t)')\r\n",
        "plt.xlabel('t (en jours)')\r\n",
        "\r\n",
        "\r\n",
        "plt.plot(X,Y)\r\n",
        "\r\n",
        "\r\n",
        "plt.show()\r\n",
        "\r\n",
        "### INTERPRETATION"
      ],
      "execution_count": 1089,
      "outputs": [
        {
          "output_type": "display_data",
          "data": {
            "image/png": "[encoded data removed]",
            "text/plain": [
              "<Figure size 432x288 with 1 Axes>"
            ]
          },
          "metadata": {
            "tags": [],
            "needs_background": "light"
          }
        }
      ]
    },
    {
      "cell_type": "code",
      "metadata": {
        "colab": {
          "base_uri": "https://localhost:8080/",
          "height": 295
        },
        "id": "NIV-Bz8VkkZv",
        "outputId": "ea42be07-7b98-44e8-f240-acaacca9f36a"
      },
      "source": [
        "# BEESadult\r\n",
        "# Nombre d'individus adulte.\r\n",
        "X=[i for i in range(1,366)] \r\n",
        "Y=[BEESadult(i) for i in X] #Bleu\r\n",
        "\r\n",
        "plt.title('BEESadult (bleu) en fonction du temps')\r\n",
        "plt.ylabel('BEESadult(t)')\r\n",
        "plt.xlabel('t (en jours)')\r\n",
        "\r\n",
        "\r\n",
        "plt.plot(X,Y)\r\n",
        "\r\n",
        "\r\n",
        "plt.show()\r\n",
        "\r\n",
        "### INTERPRETATION"
      ],
      "execution_count": 1090,
      "outputs": [
        {
          "output_type": "display_data",
          "data": {
            "image/png": "[encoded data removed]",
            "text/plain": [
              "<Figure size 432x288 with 1 Axes>"
            ]
          },
          "metadata": {
            "tags": [],
            "needs_background": "light"
          }
        }
      ]
    },
    {
      "cell_type": "code",
      "metadata": {
        "colab": {
          "base_uri": "https://localhost:8080/",
          "height": 295
        },
        "id": "W8Ex1eEqklMF",
        "outputId": "75337cf9-6fa4-4a02-8cdf-b49954aaee40"
      },
      "source": [
        "# STORESpollen\r\n",
        "# Pollen stocké dans la colony.\r\n",
        "X=[i for i in range(1,366)] \r\n",
        "Y=[STORESpollen(i) for i in X] #Bleu\r\n",
        "\r\n",
        "plt.title('STORESpollen (bleu) en fonction du temps')\r\n",
        "plt.ylabel('STORESpollen(t)')\r\n",
        "plt.xlabel('t (en jours)')\r\n",
        "\r\n",
        "\r\n",
        "plt.plot(X,Y)\r\n",
        "\r\n",
        "\r\n",
        "plt.show()\r\n",
        "\r\n",
        "### INTERPRETATION"
      ],
      "execution_count": 1091,
      "outputs": [
        {
          "output_type": "display_data",
          "data": {
            "image/png": "[encoded data removed]",
            "text/plain": [
              "<Figure size 432x288 with 1 Axes>"
            ]
          },
          "metadata": {
            "tags": [],
            "needs_background": "light"
          }
        }
      ]
    },
    {
      "cell_type": "code",
      "metadata": {
        "colab": {
          "base_uri": "https://localhost:8080/",
          "height": 295
        },
        "id": "HMfNxA3Tklz-",
        "outputId": "a5cdba24-1fa7-4bc0-9d09-a78b73f3f033"
      },
      "source": [
        "# STOREShoney\r\n",
        "# Miel stocké dans la colony\r\n",
        "X=[i for i in range(1,366)] \r\n",
        "Y=[STOREShoney(i) for i in X] #Bleu\r\n",
        "\r\n",
        "plt.title('STOREShoney (bleu) en fonction du temps')\r\n",
        "plt.ylabel('STOREShoney(t)')\r\n",
        "plt.xlabel('t (en jours)')\r\n",
        "\r\n",
        "\r\n",
        "plt.plot(X,Y)\r\n",
        "\r\n",
        "\r\n",
        "plt.show()\r\n",
        "\r\n",
        "### INTERPRETATION"
      ],
      "execution_count": 1092,
      "outputs": [
        {
          "output_type": "display_data",
          "data": {
            "image/png": "[encoded data removed]",
            "text/plain": [
              "<Figure size 432x288 with 1 Axes>"
            ]
          },
          "metadata": {
            "tags": [],
            "needs_background": "light"
          }
        }
      ]
    },
    {
      "cell_type": "code",
      "metadata": {
        "colab": {
          "base_uri": "https://localhost:8080/",
          "height": 295
        },
        "id": "dnMjAzGpkmOj",
        "outputId": "c81ededc-b96b-4b83-ffe8-f92238b2304f"
      },
      "source": [
        "# WEIGHTcolony\r\n",
        "# Poids de la colony.\r\n",
        "X=[i for i in range(1,366)] \r\n",
        "Y=[WEIGHTcolony(i) for i in X] #Bleu\r\n",
        "\r\n",
        "plt.title('WEIGHTcolony (bleu) en fonction du temps')\r\n",
        "plt.ylabel('WEIGHTcolony(t)')\r\n",
        "plt.xlabel('t (en jours)')\r\n",
        "\r\n",
        "\r\n",
        "plt.plot(X,Y)\r\n",
        "\r\n",
        "\r\n",
        "plt.show()\r\n",
        "\r\n",
        "### INTERPRETATION"
      ],
      "execution_count": 1093,
      "outputs": [
        {
          "output_type": "display_data",
          "data": {
            "image/png": "[encoded data removed]",
            "text/plain": [
              "<Figure size 432x288 with 1 Axes>"
            ]
          },
          "metadata": {
            "tags": [],
            "needs_background": "light"
          }
        }
      ]
    },
    {
      "cell_type": "code",
      "metadata": {
        "colab": {
          "base_uri": "https://localhost:8080/",
          "height": 295
        },
        "id": "qrMJxtcikm9B",
        "outputId": "fef13808-abba-4881-d552-8a3bc3eea5f9"
      },
      "source": [
        "# ELR\r\n",
        "# Perte totale (adult, egg, larves, puape) d'individus dans la colony.\r\n",
        "X=[i for i in range(1,366)] \r\n",
        "Y=[ELR(i) for i in X] #Bleu\r\n",
        "\r\n",
        "plt.title('ELR(bleu) en fonction du temps')\r\n",
        "plt.ylabel('ELR(t)')\r\n",
        "plt.xlabel('t (en jours)')\r\n",
        "\r\n",
        "\r\n",
        "plt.plot(X,Y)\r\n",
        "\r\n",
        "\r\n",
        "plt.show()\r\n",
        "\r\n",
        "### INTERPRETATION"
      ],
      "execution_count": 1094,
      "outputs": [
        {
          "output_type": "display_data",
          "data": {
            "image/png": "[encoded data removed]",
            "text/plain": [
              "<Figure size 432x288 with 1 Axes>"
            ]
          },
          "metadata": {
            "tags": [],
            "needs_background": "light"
          }
        }
      ]
    },
    {
      "cell_type": "code",
      "metadata": {
        "colab": {
          "base_uri": "https://localhost:8080/"
        },
        "id": "rStqLWySbNMg",
        "outputId": "d3711931-9759-45a1-dcf6-359e8be2219e"
      },
      "source": [
        "print(\"test\")"
      ],
      "execution_count": 1095,
      "outputs": [
        {
          "output_type": "stream",
          "text": [
            "test\n"
          ],
          "name": "stdout"
        }
      ]
    }
  ]
}